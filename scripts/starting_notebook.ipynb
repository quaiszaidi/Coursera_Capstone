# this is a capstone project notebook
import panda as pd
import numpy as np
print("hello capstone project course") 
